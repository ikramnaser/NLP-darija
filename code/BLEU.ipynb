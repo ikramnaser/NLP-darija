{
 "cells": [
  {
   "cell_type": "code",
   "execution_count": 13,
   "id": "900edcef-f47c-4e92-8e02-08097768afab",
   "metadata": {},
   "outputs": [],
   "source": [
    "import pandas as pd\n",
    "import nltk\n",
    "from nltk.util import ngrams\n",
    "from nltk.translate.bleu_score import corpus_bleu, SmoothingFunction\n"
   ]
  },
  {
   "cell_type": "markdown",
   "id": "bc3d81dc-1164-4913-8c0e-158b8b965154",
   "metadata": {},
   "source": [
    "## BLEU scores"
   ]
  },
  {
   "cell_type": "code",
   "execution_count": 14,
   "id": "665cac69-2eeb-43f6-92eb-917e616e7972",
   "metadata": {},
   "outputs": [
    {
     "name": "stdout",
     "output_type": "stream",
     "text": [
      "BLEU Score for ChatGPT: 0.3678\n",
      "BLEU Score for Claude: 0.3732\n"
     ]
    }
   ],
   "source": [
    "file_path = r'C:\\Users\\ikry\\NLP-darija\\results\\LLM_sentences.csv'\n",
    "data = pd.read_csv(file_path)\n",
    "\n",
    "darija_sentences = data['darija'].tolist()\n",
    "references = data['eng'].apply(nltk.word_tokenize).tolist()  \n",
    "\n",
    "# candidates (translations from ChatGPT and Claude)\n",
    "candidate_ChatGPT = data['eng_ChatGPT'].apply(nltk.word_tokenize).tolist()\n",
    "candidate_Claude = data['eng_Claude'].apply(nltk.word_tokenize).tolist()\n",
    "\n",
    "# Compute BLEU scores\n",
    "smoothing = SmoothingFunction().method1\n",
    "bleu_score_ChatGPT = corpus_bleu([[ref] for ref in references], candidate_ChatGPT, smoothing_function=smoothing)\n",
    "bleu_score_Claude = corpus_bleu([[ref] for ref in references], candidate_Claude, smoothing_function=smoothing)\n",
    "\n",
    "\n",
    "print(f\"BLEU Score for ChatGPT: {bleu_score_ChatGPT:.4f}\")\n",
    "print(f\"BLEU Score for Claude: {bleu_score_Claude:.4f}\")\n"
   ]
  },
  {
   "cell_type": "code",
   "execution_count": null,
   "id": "64944b88-b3b9-4ce8-bf52-f81b33bb9e95",
   "metadata": {},
   "outputs": [],
   "source": []
  }
 ],
 "metadata": {
  "kernelspec": {
   "display_name": "LaDKernel",
   "language": "python",
   "name": "ladkernel"
  },
  "language_info": {
   "codemirror_mode": {
    "name": "ipython",
    "version": 3
   },
   "file_extension": ".py",
   "mimetype": "text/x-python",
   "name": "python",
   "nbconvert_exporter": "python",
   "pygments_lexer": "ipython3",
   "version": "3.9.20"
  }
 },
 "nbformat": 4,
 "nbformat_minor": 5
}
