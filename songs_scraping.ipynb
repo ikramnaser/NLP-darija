{
 "cells": [
  {
   "cell_type": "code",
   "execution_count": 49,
   "id": "adab35aa-d835-4de3-9751-7960c1727927",
   "metadata": {},
   "outputs": [],
   "source": [
    "# Make HTTP requests\n",
    "import requests\n",
    "# Scrape data from an HTML document\n",
    "from bs4 import BeautifulSoup\n",
    "# I/O\n",
    "import os\n",
    "# Search and manipulate strings\n",
    "import re"
   ]
  },
  {
   "cell_type": "code",
   "execution_count": 50,
   "id": "c2fdd882-d525-4452-b1e2-20f3ae5c4fc1",
   "metadata": {},
   "outputs": [
    {
     "name": "stdout",
     "output_type": "stream",
     "text": [
      "Found 1 songs by Manal\n"
     ]
    },
    {
     "data": {
      "text/plain": [
       "['https://genius.com/Manal-slay-lyrics']"
      ]
     },
     "execution_count": 50,
     "metadata": {},
     "output_type": "execute_result"
    }
   ],
   "source": [
    "GENIUS_API_TOKEN='78CERPnMulsX6Hb7Gvbw8ESZx1h4gT1mIURMeydwlMxpOfWD5LtJTBFEixQE_4OP'\n",
    "\n",
    "# Get artist object from Genius API\n",
    "def request_artist_info(artist_name, page):\n",
    "    base_url = 'https://api.genius.com'\n",
    "    headers = {'Authorization': 'Bearer ' + GENIUS_API_TOKEN}\n",
    "    search_url = base_url + '/search?per_page=10&page=' + str(page)\n",
    "    data = {'q': artist_name}\n",
    "    response = requests.get(search_url, data=data, headers=headers)\n",
    "    return response\n",
    "# Get Genius.com song url's from artist object\n",
    "def request_song_url(artist_name, song_cap):\n",
    "    page = 1\n",
    "    songs = []\n",
    "    \n",
    "    while True:\n",
    "        response = request_artist_info(artist_name, page)\n",
    "        json = response.json()\n",
    "        # Collect up to song_cap song objects from artist\n",
    "        song_info = []\n",
    "        for hit in json['response']['hits']:\n",
    "            if artist_name.lower() in hit['result']['primary_artist']['name'].lower():\n",
    "                song_info.append(hit)\n",
    "    \n",
    "        # Collect song URL's from song objects\n",
    "        for song in song_info:\n",
    "            if (len(songs) < song_cap):\n",
    "                url = song['result']['url']\n",
    "                songs.append(url)\n",
    "            \n",
    "        if (len(songs) == song_cap):\n",
    "            break\n",
    "        else:\n",
    "            page += 1\n",
    "        \n",
    "    print('Found {} songs by {}'.format(len(songs), artist_name))\n",
    "    return songs\n",
    "    \n",
    "# DEMO\n",
    "request_song_url('Manal', 1)"
   ]
  },
  {
   "cell_type": "code",
   "execution_count": 51,
   "id": "828b1e13-cf5c-46cd-b9cf-17dd301b4ff5",
   "metadata": {},
   "outputs": [],
   "source": [
    "import requests\n",
    "from bs4 import BeautifulSoup\n",
    "import re\n",
    "import os\n",
    "from nltk.tokenize import word_tokenize\n",
    "\n",
    "# Function to scrape lyrics from Genius\n",
    "def scrape_song_lyrics(url):\n",
    "    page = requests.get(url)\n",
    "    html = BeautifulSoup(page.text, 'html.parser')\n",
    "    \n",
    "    # Find the lyrics container using a class that contains \"Lyrics__Container\"\n",
    "    lyrics_divs = html.select(\"div[class*=Lyrics__Container]\")\n",
    "    \n",
    "    # Extract text from all matching divs and join them into one string\n",
    "    lyrics = '\\n'.join([div.get_text() for div in lyrics_divs])\n",
    "    \n",
    "    # Removing unnecessary identifiers like chorus, verse, etc.\n",
    "    lyrics = re.sub(r'[\\(\\[].*?[\\)\\]]', '', lyrics)  # Remove text inside parentheses or square brackets\n",
    "    \n",
    "    # Remove empty lines\n",
    "    lyrics = os.linesep.join([s for s in lyrics.splitlines() if s])         \n",
    "    \n",
    "    return lyrics\n",
    "\n",
    "# Function to normalize spacing\n",
    "def normalize_spacing(text):\n",
    "    # Add space before capital letters if not preceded by a space\n",
    "    text = re.sub(r'(?<!\\s)([A-Z])', r' \\1', text)\n",
    "    # Add space after punctuation if missing\n",
    "    text = re.sub(r'([?!.,:;])(?=\\S)', r'\\1 ', text)\n",
    "    # Normalize multiple spaces to a single space\n",
    "    text = re.sub(r'\\s+', ' ', text)\n",
    "    return text.strip()\n",
    "\n",
    "# Function to save lyrics to a file\n",
    "def save_lyrics_to_file(url, dir, filename=\"song1.txt\"):\n",
    "    # Ensure the directory exists\n",
    "    os.makedirs(dir, exist_ok=True)\n",
    "    \n",
    "    # Construct the full path\n",
    "    file_path = os.path.join(dir, filename)\n",
    "    \n",
    "    # Get the lyrics\n",
    "    lyrics = scrape_song_lyrics(url)\n",
    "    \n",
    "    # Normalize the lyrics\n",
    "    normalized_lyrics = normalize_spacing(lyrics)\n",
    "    \n",
    "    # Save the lyrics to the specified file path\n",
    "    with open(file_path, 'w', encoding='utf-8') as file:\n",
    "        file.write(normalized_lyrics)\n",
    "\n",
    "# URLs of the songs\n",
    "urls = [\n",
    "    ('https://genius.com/Manal-slay-lyrics', 'song1.txt'),\n",
    "    ('https://genius.com/elgrandetoto-mghayer-lyrics', 'song2.txt'),\n",
    "    ('https://genius.com/stormy-africain-lyrics', 'song3.txt')\n",
    "]\n",
    "\n",
    "# Directory to save lyrics\n",
    "dir = \"C:/Users/ikry/NLP-darija/data\"\n",
    "\n",
    "# Download, normalize, and save lyrics for each song\n",
    "for url, filename in urls:\n",
    "    save_lyrics_to_file(url, dir, filename)\n"
   ]
  },
  {
   "cell_type": "code",
   "execution_count": null,
   "id": "6ec6ff6e-9247-4a09-a49d-18cc700bdf21",
   "metadata": {},
   "outputs": [],
   "source": []
  }
 ],
 "metadata": {
  "kernelspec": {
   "display_name": "LaDKernel",
   "language": "python",
   "name": "ladkernel"
  },
  "language_info": {
   "codemirror_mode": {
    "name": "ipython",
    "version": 3
   },
   "file_extension": ".py",
   "mimetype": "text/x-python",
   "name": "python",
   "nbconvert_exporter": "python",
   "pygments_lexer": "ipython3",
   "version": "3.9.20"
  }
 },
 "nbformat": 4,
 "nbformat_minor": 5
}
